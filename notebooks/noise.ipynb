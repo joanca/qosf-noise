{
 "cells": [
  {
   "cell_type": "markdown",
   "id": "6d172737-f225-4392-9378-660e44ed7fc7",
   "metadata": {
    "editable": true,
    "slideshow": {
     "slide_type": ""
    },
    "tags": []
   },
   "source": [
    "# Noise, noise and more noise"
   ]
  },
  {
   "cell_type": "markdown",
   "id": "6225dbd1-35b0-45eb-8ac9-234161b1b4b6",
   "metadata": {},
   "source": [
    "## 1. Noise model"
   ]
  },
  {
   "cell_type": "markdown",
   "id": "3251124a-5156-4737-b7a7-b2e916e0f79f",
   "metadata": {},
   "source": [
    "We define a function `add_noise` that will apply Pauli operators to a given `QuantumCircuit` based on the probabilities \n",
    "$\\alpha$ and $\\beta$. First we need to define our Pauli operators, to do this we simply create a set of wrapper functions that will apply the specified gate:"
   ]
  },
  {
   "cell_type": "code",
   "execution_count": 1,
   "id": "2efe8b04-5e0c-442e-aae5-f5a9c13b8c40",
   "metadata": {},
   "outputs": [],
   "source": [
    "def apply_x_gate(circuit, qubit_index):\n",
    "  \"\"\"Applies an X gate to the specified qubit in the circuit.\"\"\"\n",
    "\n",
    "  circuit.x(qubit_index)\n",
    "\n",
    "def apply_y_gate(circuit, qubit_index):\n",
    "  \"\"\"Applies an Y gate to the specified qubit in the circuit.\"\"\"\n",
    "\n",
    "  circuit.y(qubit_index)\n",
    "\n",
    "def apply_z_gate(circuit, qubit_index):\n",
    "  \"\"\"Applies an Y gate to the specified qubit in the circuit.\"\"\"\n",
    "\n",
    "  circuit.z(qubit_index)\n",
    "\n",
    "def apply_i_gate(circuit, qubit_index):\n",
    "  \"\"\"Applies an I gate to the specified qubit in the circuit.\n",
    "     Knowing that X^2 = I, we can can say that applying twice the X gate, we obtain the expected result,\n",
    "     since that means that we revert the previous X gate.\n",
    "  \"\"\"\n",
    "\n",
    "  circuit.x(qubit_index)\n",
    "  circuit.x(qubit_index)"
   ]
  },
  {
   "cell_type": "code",
   "execution_count": 2,
   "id": "f1337727-185a-447b-a9df-e253d6d86572",
   "metadata": {},
   "outputs": [],
   "source": [
    "from numpy.random import choice\n",
    "\n",
    "def get_random_gate():\n",
    "    return choice([apply_x_gate, apply_y_gate, apply_z_gate, apply_i_gate])\n",
    "    "
   ]
  },
  {
   "cell_type": "code",
   "execution_count": 3,
   "id": "f3a1a7ae-8a9a-4985-b713-bee72bfe0443",
   "metadata": {},
   "outputs": [
    {
     "name": "stdout",
     "output_type": "stream",
     "text": [
      "     ┌───┐\n",
      "q_0: ┤ H ├\n",
      "     └───┘\n",
      "q_1: ─────\n",
      "          \n"
     ]
    },
    {
     "data": {
      "image/png": "[encoded data removed]",
      "text/plain": [
       "<Figure size 203.683x200.667 with 1 Axes>"
      ]
     },
     "execution_count": 3,
     "metadata": {},
     "output_type": "execute_result"
    }
   ],
   "source": [
    "from qiskit import QuantumCircuit\n",
    "\n",
    "qc = QuantumCircuit(2)\n",
    "\n",
    "qc.h(0)\n",
    "\n",
    "#apply_x_gate(qc, 0)\n",
    "print(qc)\n",
    "qc.draw('mpl')"
   ]
  },
  {
   "cell_type": "code",
   "execution_count": 4,
   "id": "3bd72eb4-aacf-4158-8bbf-93e5b69a2970",
   "metadata": {},
   "outputs": [],
   "source": [
    "from qiskit import QuantumCircuit\n",
    "from numpy import arange\n",
    "from numpy.random import choice\n",
    "\n",
    "def add_pauli_noise(circuit, a, b):\n",
    "    \"\"\"\n",
    "    Adds Pauli noise to a given quantum circuit.\n",
    "\n",
    "    Args:\n",
    "        circuit: The quantum circuit to add noise to.\n",
    "        a: Probability of Pauli noise after a one-qubit gate.\n",
    "        b: Probability of Pauli noise after a two-qubit gate.\n",
    "\n",
    "    Returns:\n",
    "        The quantum circuit with added Pauli noise.\n",
    "    \"\"\"\n",
    "\n",
    "    noisy_circuit = circuit.copy()\n",
    "    \n",
    "    for gate in circuit.data:\n",
    "        gate_index = circuit.data.index(gate)\n",
    "        \n",
    "        if len(gate.qubits) == 2:  # Two-qubit gate\n",
    "            print('two gate')\n",
    "\n",
    "            if choice([True, False], p=[b, 1-b]):\n",
    "\n",
    "                print('two gate')\n",
    "                pauli_gate = get_random_gate()\n",
    "\n",
    "                pauli_gate(noisy_circuit, gate_index)\n",
    "                \n",
    "        else:  # One-qubit gate\n",
    "            if choice([True, False], p=[a, 1-a]):\n",
    "                pauli_gate = get_random_gate()\n",
    "\n",
    "                print('two gate')\n",
    "                pauli_gate(noisy_circuit, gate_index)\n",
    "                \n",
    "    return noisy_circuit"
   ]
  },
  {
   "cell_type": "code",
   "execution_count": 5,
   "id": "489d4d94-1d90-4827-a3d7-c09514c39d90",
   "metadata": {},
   "outputs": [
    {
     "data": {
      "image/png": "[encoded data removed]",
      "text/plain": [
       "<Figure size 203.683x200.667 with 1 Axes>"
      ]
     },
     "execution_count": 5,
     "metadata": {},
     "output_type": "execute_result"
    }
   ],
   "source": [
    "noisy_circuit = add_pauli_noise(qc, 0.3, 0.78)\n",
    "noisy_circuit.draw('mpl')"
   ]
  },
  {
   "cell_type": "code",
   "execution_count": 6,
   "id": "eacdfa1c-1dbf-452a-b83c-6f83460dd13a",
   "metadata": {},
   "outputs": [
    {
     "data": {
      "image/png": "[encoded data removed]",
      "text/plain": [
       "<Figure size 203.683x200.667 with 1 Axes>"
      ]
     },
     "execution_count": 6,
     "metadata": {},
     "output_type": "execute_result"
    }
   ],
   "source": [
    "noisy_circuit = add_pauli_noise(qc, 0.3, 0.78)\n",
    "noisy_circuit.draw('mpl')"
   ]
  }
 ],
 "metadata": {
  "kernelspec": {
   "display_name": "Python 3 (ipykernel)",
   "language": "python",
   "name": "python3"
  },
  "language_info": {
   "codemirror_mode": {
    "name": "ipython",
    "version": 3
   },
   "file_extension": ".py",
   "mimetype": "text/x-python",
   "name": "python",
   "nbconvert_exporter": "python",
   "pygments_lexer": "ipython3",
   "version": "3.12.7"
  }
 },
 "nbformat": 4,
 "nbformat_minor": 5
}
